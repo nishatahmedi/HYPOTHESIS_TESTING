{
 "cells": [
  {
   "cell_type": "markdown",
   "id": "32b6c304-c7e0-4930-a156-14df0d0ba22c",
   "metadata": {},
   "source": [
    "## HYPOTHESIS TESTING"
   ]
  },
  {
   "cell_type": "markdown",
   "id": "2e836305-5e37-460d-89a5-601b3ab0f87c",
   "metadata": {},
   "source": [
    "Background:\n",
    "Bombay hospitality Ltd. operates a franchise model for producing exotic Norwegian dinners throughout New England. The operating cost for a franchise in a week (W) is given by the equation W = $1,000 + $5X, where X represents the number of units produced in a week. Recent feedback from restaurant owners suggests that this cost model may no longer be accurate, as their observed weekly operating costs are higher.\n",
    "Objective:\n",
    "To investigate the restaurant owners' claim about the increase in weekly operating costs using hypothesis testing.\n",
    "Data Provided:\n",
    "•\tThe theoretical weekly operating cost model: W = $1,000 + $5X\n",
    "•\tSample of 25 restaurants with a mean weekly cost of Rs. 3,050\n",
    "•\tNumber of units produced in a week (X) follows a normal distribution with a mean (μ) of 600 units and a standard deviation (σ) of 25 units\n"
   ]
  },
  {
   "cell_type": "code",
   "execution_count": 1,
   "id": "33261b19-0959-4e76-abaf-82315081e4ee",
   "metadata": {},
   "outputs": [
    {
     "name": "stdout",
     "output_type": "stream",
     "text": [
      "Step 1: State the Hypotheses\n",
      "Null Hypothesis (H0): The actual mean weekly operating cost is equal to the theoretical mean weekly cost.\n",
      "Alternative Hypothesis (HA): The actual mean weekly operating cost is greater than the theoretical mean weekly cost.\n",
      "\n",
      "Step 2: Calculate the Test Statistic\n",
      "Sample Mean (x̄): 3050\n",
      "Theoretical Mean (μ): 4000\n",
      "Standard Deviation of Sample Mean (σ/√n): 25.00\n",
      "Test Statistic (t): -38.00\n",
      "\n",
      "Step 3: Determine the Critical Value\n",
      "Alpha Level (α): 0.05\n",
      "Critical Value (Z): 1.64\n",
      "\n",
      "Step 4: Make a Decision\n",
      "Decision: Fail to reject the null hypothesis.\n",
      "\n",
      "Step 5: Conclusion\n",
      "Conclusion: There is not enough evidence to support the restaurant owners' claim that the weekly operating costs are higher than the model suggests.\n"
     ]
    }
   ],
   "source": [
    "import math\n",
    "import scipy.stats as stats\n",
    "\n",
    "def hypothesis_test():\n",
    "    # Step 1: State the Hypotheses\n",
    "    print(\"Step 1: State the Hypotheses\")\n",
    "    print(\"Null Hypothesis (H0): The actual mean weekly operating cost is equal to the theoretical mean weekly cost.\")\n",
    "    print(\"Alternative Hypothesis (HA): The actual mean weekly operating cost is greater than the theoretical mean weekly cost.\\n\")\n",
    "\n",
    "    # Step 2: Calculate the Test Statistic\n",
    "    print(\"Step 2: Calculate the Test Statistic\")\n",
    "\n",
    "    # Given data\n",
    "    sample_mean = 3050  # Rs. 3,050\n",
    "    X_mean = 600        # units produced in a week (mean)\n",
    "    X_std = 25          # standard deviation of units produced\n",
    "    n = 25              # sample size (25 restaurants)\n",
    "    \n",
    "    # Theoretical weekly cost\n",
    "    theoretical_mean = 1000 + 5 * X_mean\n",
    "\n",
    "    # Standard deviation of the sample mean\n",
    "    sigma = 5 * X_std\n",
    "    standard_error = sigma / math.sqrt(n)\n",
    "\n",
    "    # Test statistic\n",
    "    t_statistic = (sample_mean - theoretical_mean) / standard_error\n",
    "\n",
    "    print(f\"Sample Mean (x̄): {sample_mean}\")\n",
    "    print(f\"Theoretical Mean (μ): {theoretical_mean}\")\n",
    "    print(f\"Standard Deviation of Sample Mean (σ/√n): {standard_error:.2f}\")\n",
    "    print(f\"Test Statistic (t): {t_statistic:.2f}\\n\")\n",
    "\n",
    "    # Step 3: Determine the Critical Value\n",
    "    print(\"Step 3: Determine the Critical Value\")\n",
    "    \n",
    "    alpha = 0.05\n",
    "    critical_value = stats.norm.ppf(1 - alpha)\n",
    "    \n",
    "    print(f\"Alpha Level (α): {alpha}\")\n",
    "    print(f\"Critical Value (Z): {critical_value:.2f}\\n\")\n",
    "\n",
    "    # Step 4: Make a Decision\n",
    "    print(\"Step 4: Make a Decision\")\n",
    "\n",
    "    if t_statistic > critical_value:\n",
    "        print(\"Decision: Reject the null hypothesis.\")\n",
    "    else:\n",
    "        print(\"Decision: Fail to reject the null hypothesis.\")\n",
    "\n",
    "    # Step 5: Conclusion\n",
    "    print(\"\\nStep 5: Conclusion\")\n",
    "    \n",
    "    if t_statistic > critical_value:\n",
    "        print(\"Conclusion: There is strong evidence to support the restaurant owners' claim that the weekly operating costs are higher than the model suggests.\")\n",
    "    else:\n",
    "        print(\"Conclusion: There is not enough evidence to support the restaurant owners' claim that the weekly operating costs are higher than the model suggests.\")\n",
    "\n",
    "# Run the analysis\n",
    "if __name__ == \"__main__\":\n",
    "    hypothesis_test()"
   ]
  },
  {
   "cell_type": "code",
   "execution_count": null,
   "id": "ef94e653-c286-4a11-a759-90d41e1f6c22",
   "metadata": {},
   "outputs": [],
   "source": []
  }
 ],
 "metadata": {
  "kernelspec": {
   "display_name": "Python 3 (ipykernel)",
   "language": "python",
   "name": "python3"
  },
  "language_info": {
   "codemirror_mode": {
    "name": "ipython",
    "version": 3
   },
   "file_extension": ".py",
   "mimetype": "text/x-python",
   "name": "python",
   "nbconvert_exporter": "python",
   "pygments_lexer": "ipython3",
   "version": "3.12.3"
  }
 },
 "nbformat": 4,
 "nbformat_minor": 5
}
